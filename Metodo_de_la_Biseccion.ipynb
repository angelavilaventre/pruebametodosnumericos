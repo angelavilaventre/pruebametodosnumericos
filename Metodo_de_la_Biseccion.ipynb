{
  "nbformat": 4,
  "nbformat_minor": 0,
  "metadata": {
    "colab": {
      "name": "Metodo de la Biseccion.ipynb",
      "provenance": [],
      "authorship_tag": "ABX9TyOh/+2J49D+WdHht5IbdoW9",
      "include_colab_link": true
    },
    "kernelspec": {
      "name": "python3",
      "display_name": "Python 3"
    },
    "language_info": {
      "name": "python"
    }
  },
  "cells": [
    {
      "cell_type": "markdown",
      "metadata": {
        "id": "view-in-github",
        "colab_type": "text"
      },
      "source": [
        "<a href=\"https://colab.research.google.com/github/angelavilaventre/pruebametodosnumericos/blob/main/Metodo_de_la_Biseccion.ipynb\" target=\"_parent\"><img src=\"https://colab.research.google.com/assets/colab-badge.svg\" alt=\"Open In Colab\"/></a>"
      ]
    },
    {
      "cell_type": "markdown",
      "metadata": {
        "id": "9gr1jbWQ-CVf"
      },
      "source": [
        "#Graficar con Numpy y Matplot"
      ]
    },
    {
      "cell_type": "code",
      "metadata": {
        "colab": {
          "base_uri": "https://localhost:8080/",
          "height": 282
        },
        "id": "rGVU04TEsX75",
        "outputId": "c118ca0c-8830-4714-d463-0e8e7374dc50"
      },
      "source": [
        "import matplotlib.pyplot as plt\n",
        "import numpy\n",
        "\n",
        "x= numpy.linspace(-10,10,1000)\n",
        "f=2*x**2-6*x\n",
        "\n",
        "plt.plot(x,f)"
      ],
      "execution_count": null,
      "outputs": [
        {
          "output_type": "execute_result",
          "data": {
            "text/plain": [
              "[<matplotlib.lines.Line2D at 0x7f2ed37d3210>]"
            ]
          },
          "metadata": {},
          "execution_count": 9
        },
        {
          "output_type": "display_data",
          "data": {
            "image/png": "[encoded data removed]",
            "text/plain": [
              "<Figure size 432x288 with 1 Axes>"
            ]
          },
          "metadata": {
            "needs_background": "light"
          }
        }
      ]
    },
    {
      "cell_type": "markdown",
      "metadata": {
        "id": "pfRRjh-i-KGl"
      },
      "source": [
        "#Graficar con Sympy"
      ]
    },
    {
      "cell_type": "code",
      "metadata": {
        "colab": {
          "base_uri": "https://localhost:8080/",
          "height": 317
        },
        "id": "ddfw_W34tWSM",
        "outputId": "5f4b9c41-08ff-49d2-d799-8a6851452fa1"
      },
      "source": [
        "import sympy\n",
        "from sympy import *\n",
        "x = symbols('x')\n",
        "f = 2*x**2 - 6*x \n",
        "\n",
        "# plot\n",
        "from sympy.plotting import plot\n",
        "p1 = plot(f, show=True)\n",
        "\n",
        "#roots\n",
        "sympy.roots(f, multiple=True)\n",
        "\n",
        "#evaluar la f(x)\n",
        "f.subs(x,1)"
      ],
      "execution_count": null,
      "outputs": [
        {
          "output_type": "display_data",
          "data": {
            "image/png": "[encoded data removed]",
            "text/plain": [
              "<Figure size 432x288 with 1 Axes>"
            ]
          },
          "metadata": {
            "needs_background": "light"
          }
        },
        {
          "output_type": "execute_result",
          "data": {
            "text/latex": "$\\displaystyle 11$",
            "text/plain": [
              "11"
            ]
          },
          "metadata": {},
          "execution_count": 7
        }
      ]
    },
    {
      "cell_type": "markdown",
      "metadata": {
        "id": "I7j6trkz-Odq"
      },
      "source": [
        "#Algoritmo para el Método de la Bisección"
      ]
    },
    {
      "cell_type": "code",
      "metadata": {
        "colab": {
          "base_uri": "https://localhost:8080/"
        },
        "id": "7op0-bJpt8h9",
        "outputId": "a46b11ad-f513-4542-b422-973f9bd1b599"
      },
      "source": [
        "# Funcion a estudiar\n",
        "import math\n",
        "\n",
        "def f(x):\n",
        "  #return 2*x**2 - 6*x\n",
        "  return x-math.pi \n",
        "\n",
        "# Funcion para el calculo de la media\n",
        "def mean(a,b):\n",
        "  return (a+b)/2\n",
        "\n",
        "# Algoritmo\n",
        "def CalculoRaiz(a,b,d=9999,e=0):\n",
        "  \n",
        "  st=False\n",
        "  c=0\n",
        "  i=-1\n",
        "\n",
        "  if f(a)*f(b)<0: \n",
        "    st=True \n",
        "    while(st):\n",
        "\n",
        "      c=mean(a,b)\n",
        "      lista_a.append(a)\n",
        "      lista_b.append(b)\n",
        "      lista_c.append(c)\n",
        "      if f(c)==0:\n",
        "        st=False\n",
        "      else:\n",
        "        if f(a)*f(c)<0: b=c\n",
        "        else: a=c\n",
        "\n",
        "      i=i+1\n",
        "      \n",
        "      #lista_e.append((abs(lista_c[i]-lista_c[i-1])))\n",
        "      #print(((abs(lista_c[i]-lista_c[i-1]))))\n",
        "      \n",
        "      #if lista_e[i]<=e: st=False\n",
        "      \n",
        "      if i==d: st=False \n",
        "\n",
        "    print(f\"Se encontró una raiz en {c} despues de {i} iteraciones\")\n",
        "  \n",
        "  else: \n",
        "    st=False \n",
        "    print(\"Intervalo incorrecto, encierra varias ó ninguna raíz. Inténtelo con otro intervalo. \")\n",
        "\n",
        "################################################################################\n",
        "\n",
        "# Intervalo [a,b]\n",
        "a=2\n",
        "b=7\n",
        "i=4\n",
        "\n",
        "\n",
        "lista_a=[]\n",
        "lista_b=[]\n",
        "lista_c=[]\n",
        "lista_e=[]\n",
        "\n",
        "#Aplico el método\n",
        "\n",
        "CalculoRaiz(a,b)\n"
      ],
      "execution_count": 36,
      "outputs": [
        {
          "output_type": "stream",
          "name": "stdout",
          "text": [
            "Se encontró una raiz en 3.141592653589793 despues de 52 iteraciones\n"
          ]
        }
      ]
    },
    {
      "cell_type": "code",
      "metadata": {
        "colab": {
          "base_uri": "https://localhost:8080/",
          "height": 1000
        },
        "id": "XAGrzb7q3b1T",
        "outputId": "7f64cac5-368b-4617-fa1c-9c845b45b30c"
      },
      "source": [
        "import pandas as pd\n",
        "\n",
        "#for i in range(0,len(lista_c)):\n",
        "#  lista_e.append((abs(lista_c[len(lista_c)-1]-lista_c[i]))/lista_c[len(lista_c)-1])\n",
        "\n",
        "datos = {\n",
        "  'a':lista_a,   \n",
        "  'b':lista_b,   \n",
        "  'c':lista_c,\n",
        "  #'error':lista_e  \n",
        "}\n",
        "\n",
        "df=pd.DataFrame(datos)\n",
        "df\n"
      ],
      "execution_count": 37,
      "outputs": [
        {
          "output_type": "execute_result",
          "data": {
            "text/html": [
              "<div>\n",
              "<style scoped>\n",
              "    .dataframe tbody tr th:only-of-type {\n",
              "        vertical-align: middle;\n",
              "    }\n",
              "\n",
              "    .dataframe tbody tr th {\n",
              "        vertical-align: top;\n",
              "    }\n",
              "\n",
              "    .dataframe thead th {\n",
              "        text-align: right;\n",
              "    }\n",
              "</style>\n",
              "<table border=\"1\" class=\"dataframe\">\n",
              "  <thead>\n",
              "    <tr style=\"text-align: right;\">\n",
              "      <th></th>\n",
              "      <th>a</th>\n",
              "      <th>b</th>\n",
              "      <th>c</th>\n",
              "    </tr>\n",
              "  </thead>\n",
              "  <tbody>\n",
              "    <tr>\n",
              "      <th>0</th>\n",
              "      <td>2.000000</td>\n",
              "      <td>7.000000</td>\n",
              "      <td>4.500000</td>\n",
              "    </tr>\n",
              "    <tr>\n",
              "      <th>1</th>\n",
              "      <td>2.000000</td>\n",
              "      <td>4.500000</td>\n",
              "      <td>3.250000</td>\n",
              "    </tr>\n",
              "    <tr>\n",
              "      <th>2</th>\n",
              "      <td>2.000000</td>\n",
              "      <td>3.250000</td>\n",
              "      <td>2.625000</td>\n",
              "    </tr>\n",
              "    <tr>\n",
              "      <th>3</th>\n",
              "      <td>2.625000</td>\n",
              "      <td>3.250000</td>\n",
              "      <td>2.937500</td>\n",
              "    </tr>\n",
              "    <tr>\n",
              "      <th>4</th>\n",
              "      <td>2.937500</td>\n",
              "      <td>3.250000</td>\n",
              "      <td>3.093750</td>\n",
              "    </tr>\n",
              "    <tr>\n",
              "      <th>5</th>\n",
              "      <td>3.093750</td>\n",
              "      <td>3.250000</td>\n",
              "      <td>3.171875</td>\n",
              "    </tr>\n",
              "    <tr>\n",
              "      <th>6</th>\n",
              "      <td>3.093750</td>\n",
              "      <td>3.171875</td>\n",
              "      <td>3.132812</td>\n",
              "    </tr>\n",
              "    <tr>\n",
              "      <th>7</th>\n",
              "      <td>3.132812</td>\n",
              "      <td>3.171875</td>\n",
              "      <td>3.152344</td>\n",
              "    </tr>\n",
              "    <tr>\n",
              "      <th>8</th>\n",
              "      <td>3.132812</td>\n",
              "      <td>3.152344</td>\n",
              "      <td>3.142578</td>\n",
              "    </tr>\n",
              "    <tr>\n",
              "      <th>9</th>\n",
              "      <td>3.132812</td>\n",
              "      <td>3.142578</td>\n",
              "      <td>3.137695</td>\n",
              "    </tr>\n",
              "    <tr>\n",
              "      <th>10</th>\n",
              "      <td>3.137695</td>\n",
              "      <td>3.142578</td>\n",
              "      <td>3.140137</td>\n",
              "    </tr>\n",
              "    <tr>\n",
              "      <th>11</th>\n",
              "      <td>3.140137</td>\n",
              "      <td>3.142578</td>\n",
              "      <td>3.141357</td>\n",
              "    </tr>\n",
              "    <tr>\n",
              "      <th>12</th>\n",
              "      <td>3.141357</td>\n",
              "      <td>3.142578</td>\n",
              "      <td>3.141968</td>\n",
              "    </tr>\n",
              "    <tr>\n",
              "      <th>13</th>\n",
              "      <td>3.141357</td>\n",
              "      <td>3.141968</td>\n",
              "      <td>3.141663</td>\n",
              "    </tr>\n",
              "    <tr>\n",
              "      <th>14</th>\n",
              "      <td>3.141357</td>\n",
              "      <td>3.141663</td>\n",
              "      <td>3.141510</td>\n",
              "    </tr>\n",
              "    <tr>\n",
              "      <th>15</th>\n",
              "      <td>3.141510</td>\n",
              "      <td>3.141663</td>\n",
              "      <td>3.141586</td>\n",
              "    </tr>\n",
              "    <tr>\n",
              "      <th>16</th>\n",
              "      <td>3.141586</td>\n",
              "      <td>3.141663</td>\n",
              "      <td>3.141624</td>\n",
              "    </tr>\n",
              "    <tr>\n",
              "      <th>17</th>\n",
              "      <td>3.141586</td>\n",
              "      <td>3.141624</td>\n",
              "      <td>3.141605</td>\n",
              "    </tr>\n",
              "    <tr>\n",
              "      <th>18</th>\n",
              "      <td>3.141586</td>\n",
              "      <td>3.141605</td>\n",
              "      <td>3.141596</td>\n",
              "    </tr>\n",
              "    <tr>\n",
              "      <th>19</th>\n",
              "      <td>3.141586</td>\n",
              "      <td>3.141596</td>\n",
              "      <td>3.141591</td>\n",
              "    </tr>\n",
              "    <tr>\n",
              "      <th>20</th>\n",
              "      <td>3.141591</td>\n",
              "      <td>3.141596</td>\n",
              "      <td>3.141593</td>\n",
              "    </tr>\n",
              "    <tr>\n",
              "      <th>21</th>\n",
              "      <td>3.141591</td>\n",
              "      <td>3.141593</td>\n",
              "      <td>3.141592</td>\n",
              "    </tr>\n",
              "    <tr>\n",
              "      <th>22</th>\n",
              "      <td>3.141592</td>\n",
              "      <td>3.141593</td>\n",
              "      <td>3.141593</td>\n",
              "    </tr>\n",
              "    <tr>\n",
              "      <th>23</th>\n",
              "      <td>3.141592</td>\n",
              "      <td>3.141593</td>\n",
              "      <td>3.141593</td>\n",
              "    </tr>\n",
              "    <tr>\n",
              "      <th>24</th>\n",
              "      <td>3.141593</td>\n",
              "      <td>3.141593</td>\n",
              "      <td>3.141593</td>\n",
              "    </tr>\n",
              "    <tr>\n",
              "      <th>25</th>\n",
              "      <td>3.141593</td>\n",
              "      <td>3.141593</td>\n",
              "      <td>3.141593</td>\n",
              "    </tr>\n",
              "    <tr>\n",
              "      <th>26</th>\n",
              "      <td>3.141593</td>\n",
              "      <td>3.141593</td>\n",
              "      <td>3.141593</td>\n",
              "    </tr>\n",
              "    <tr>\n",
              "      <th>27</th>\n",
              "      <td>3.141593</td>\n",
              "      <td>3.141593</td>\n",
              "      <td>3.141593</td>\n",
              "    </tr>\n",
              "    <tr>\n",
              "      <th>28</th>\n",
              "      <td>3.141593</td>\n",
              "      <td>3.141593</td>\n",
              "      <td>3.141593</td>\n",
              "    </tr>\n",
              "    <tr>\n",
              "      <th>29</th>\n",
              "      <td>3.141593</td>\n",
              "      <td>3.141593</td>\n",
              "      <td>3.141593</td>\n",
              "    </tr>\n",
              "    <tr>\n",
              "      <th>30</th>\n",
              "      <td>3.141593</td>\n",
              "      <td>3.141593</td>\n",
              "      <td>3.141593</td>\n",
              "    </tr>\n",
              "    <tr>\n",
              "      <th>31</th>\n",
              "      <td>3.141593</td>\n",
              "      <td>3.141593</td>\n",
              "      <td>3.141593</td>\n",
              "    </tr>\n",
              "    <tr>\n",
              "      <th>32</th>\n",
              "      <td>3.141593</td>\n",
              "      <td>3.141593</td>\n",
              "      <td>3.141593</td>\n",
              "    </tr>\n",
              "    <tr>\n",
              "      <th>33</th>\n",
              "      <td>3.141593</td>\n",
              "      <td>3.141593</td>\n",
              "      <td>3.141593</td>\n",
              "    </tr>\n",
              "    <tr>\n",
              "      <th>34</th>\n",
              "      <td>3.141593</td>\n",
              "      <td>3.141593</td>\n",
              "      <td>3.141593</td>\n",
              "    </tr>\n",
              "    <tr>\n",
              "      <th>35</th>\n",
              "      <td>3.141593</td>\n",
              "      <td>3.141593</td>\n",
              "      <td>3.141593</td>\n",
              "    </tr>\n",
              "    <tr>\n",
              "      <th>36</th>\n",
              "      <td>3.141593</td>\n",
              "      <td>3.141593</td>\n",
              "      <td>3.141593</td>\n",
              "    </tr>\n",
              "    <tr>\n",
              "      <th>37</th>\n",
              "      <td>3.141593</td>\n",
              "      <td>3.141593</td>\n",
              "      <td>3.141593</td>\n",
              "    </tr>\n",
              "    <tr>\n",
              "      <th>38</th>\n",
              "      <td>3.141593</td>\n",
              "      <td>3.141593</td>\n",
              "      <td>3.141593</td>\n",
              "    </tr>\n",
              "    <tr>\n",
              "      <th>39</th>\n",
              "      <td>3.141593</td>\n",
              "      <td>3.141593</td>\n",
              "      <td>3.141593</td>\n",
              "    </tr>\n",
              "    <tr>\n",
              "      <th>40</th>\n",
              "      <td>3.141593</td>\n",
              "      <td>3.141593</td>\n",
              "      <td>3.141593</td>\n",
              "    </tr>\n",
              "    <tr>\n",
              "      <th>41</th>\n",
              "      <td>3.141593</td>\n",
              "      <td>3.141593</td>\n",
              "      <td>3.141593</td>\n",
              "    </tr>\n",
              "    <tr>\n",
              "      <th>42</th>\n",
              "      <td>3.141593</td>\n",
              "      <td>3.141593</td>\n",
              "      <td>3.141593</td>\n",
              "    </tr>\n",
              "    <tr>\n",
              "      <th>43</th>\n",
              "      <td>3.141593</td>\n",
              "      <td>3.141593</td>\n",
              "      <td>3.141593</td>\n",
              "    </tr>\n",
              "    <tr>\n",
              "      <th>44</th>\n",
              "      <td>3.141593</td>\n",
              "      <td>3.141593</td>\n",
              "      <td>3.141593</td>\n",
              "    </tr>\n",
              "    <tr>\n",
              "      <th>45</th>\n",
              "      <td>3.141593</td>\n",
              "      <td>3.141593</td>\n",
              "      <td>3.141593</td>\n",
              "    </tr>\n",
              "    <tr>\n",
              "      <th>46</th>\n",
              "      <td>3.141593</td>\n",
              "      <td>3.141593</td>\n",
              "      <td>3.141593</td>\n",
              "    </tr>\n",
              "    <tr>\n",
              "      <th>47</th>\n",
              "      <td>3.141593</td>\n",
              "      <td>3.141593</td>\n",
              "      <td>3.141593</td>\n",
              "    </tr>\n",
              "    <tr>\n",
              "      <th>48</th>\n",
              "      <td>3.141593</td>\n",
              "      <td>3.141593</td>\n",
              "      <td>3.141593</td>\n",
              "    </tr>\n",
              "    <tr>\n",
              "      <th>49</th>\n",
              "      <td>3.141593</td>\n",
              "      <td>3.141593</td>\n",
              "      <td>3.141593</td>\n",
              "    </tr>\n",
              "    <tr>\n",
              "      <th>50</th>\n",
              "      <td>3.141593</td>\n",
              "      <td>3.141593</td>\n",
              "      <td>3.141593</td>\n",
              "    </tr>\n",
              "    <tr>\n",
              "      <th>51</th>\n",
              "      <td>3.141593</td>\n",
              "      <td>3.141593</td>\n",
              "      <td>3.141593</td>\n",
              "    </tr>\n",
              "    <tr>\n",
              "      <th>52</th>\n",
              "      <td>3.141593</td>\n",
              "      <td>3.141593</td>\n",
              "      <td>3.141593</td>\n",
              "    </tr>\n",
              "  </tbody>\n",
              "</table>\n",
              "</div>"
            ],
            "text/plain": [
              "           a         b         c\n",
              "0   2.000000  7.000000  4.500000\n",
              "1   2.000000  4.500000  3.250000\n",
              "2   2.000000  3.250000  2.625000\n",
              "3   2.625000  3.250000  2.937500\n",
              "4   2.937500  3.250000  3.093750\n",
              "5   3.093750  3.250000  3.171875\n",
              "6   3.093750  3.171875  3.132812\n",
              "7   3.132812  3.171875  3.152344\n",
              "8   3.132812  3.152344  3.142578\n",
              "9   3.132812  3.142578  3.137695\n",
              "10  3.137695  3.142578  3.140137\n",
              "11  3.140137  3.142578  3.141357\n",
              "12  3.141357  3.142578  3.141968\n",
              "13  3.141357  3.141968  3.141663\n",
              "14  3.141357  3.141663  3.141510\n",
              "15  3.141510  3.141663  3.141586\n",
              "16  3.141586  3.141663  3.141624\n",
              "17  3.141586  3.141624  3.141605\n",
              "18  3.141586  3.141605  3.141596\n",
              "19  3.141586  3.141596  3.141591\n",
              "20  3.141591  3.141596  3.141593\n",
              "21  3.141591  3.141593  3.141592\n",
              "22  3.141592  3.141593  3.141593\n",
              "23  3.141592  3.141593  3.141593\n",
              "24  3.141593  3.141593  3.141593\n",
              "25  3.141593  3.141593  3.141593\n",
              "26  3.141593  3.141593  3.141593\n",
              "27  3.141593  3.141593  3.141593\n",
              "28  3.141593  3.141593  3.141593\n",
              "29  3.141593  3.141593  3.141593\n",
              "30  3.141593  3.141593  3.141593\n",
              "31  3.141593  3.141593  3.141593\n",
              "32  3.141593  3.141593  3.141593\n",
              "33  3.141593  3.141593  3.141593\n",
              "34  3.141593  3.141593  3.141593\n",
              "35  3.141593  3.141593  3.141593\n",
              "36  3.141593  3.141593  3.141593\n",
              "37  3.141593  3.141593  3.141593\n",
              "38  3.141593  3.141593  3.141593\n",
              "39  3.141593  3.141593  3.141593\n",
              "40  3.141593  3.141593  3.141593\n",
              "41  3.141593  3.141593  3.141593\n",
              "42  3.141593  3.141593  3.141593\n",
              "43  3.141593  3.141593  3.141593\n",
              "44  3.141593  3.141593  3.141593\n",
              "45  3.141593  3.141593  3.141593\n",
              "46  3.141593  3.141593  3.141593\n",
              "47  3.141593  3.141593  3.141593\n",
              "48  3.141593  3.141593  3.141593\n",
              "49  3.141593  3.141593  3.141593\n",
              "50  3.141593  3.141593  3.141593\n",
              "51  3.141593  3.141593  3.141593\n",
              "52  3.141593  3.141593  3.141593"
            ]
          },
          "metadata": {},
          "execution_count": 37
        }
      ]
    },
    {
      "cell_type": "code",
      "metadata": {
        "colab": {
          "base_uri": "https://localhost:8080/"
        },
        "id": "KSDF3ybH3mQs",
        "outputId": "56eb377c-8739-4648-b184-143669787965"
      },
      "source": [
        "e=0\n",
        "tol=1e-3\n",
        "for i in range(1,df.shape[0]):\n",
        "  e=(abs(df['c'][i]-df['c'][i-1]))\n",
        "  print(e)\n",
        "  if e<=tol: \n",
        "    print(\"Sali\")\n",
        "    break"
      ],
      "execution_count": 40,
      "outputs": [
        {
          "output_type": "stream",
          "name": "stdout",
          "text": [
            "1.25\n",
            "0.625\n",
            "0.3125\n",
            "0.15625\n",
            "0.078125\n",
            "0.0390625\n",
            "0.01953125\n",
            "0.009765625\n",
            "0.0048828125\n",
            "0.00244140625\n",
            "0.001220703125\n",
            "0.0006103515625\n",
            "0.00030517578125\n",
            "0.000152587890625\n",
            "7.62939453125e-05\n",
            "3.814697265625e-05\n",
            "1.9073486328125e-05\n",
            "9.5367431640625e-06\n",
            "4.76837158203125e-06\n",
            "2.384185791015625e-06\n",
            "1.1920928955078125e-06\n",
            "5.960464477539062e-07\n",
            "Sali\n"
          ]
        }
      ]
    },
    {
      "cell_type": "code",
      "metadata": {
        "colab": {
          "base_uri": "https://localhost:8080/"
        },
        "id": "HDY3uiO54GDn",
        "outputId": "72df47ce-0ed2-44c7-bb80-84565240e6cc"
      },
      "source": [
        "df.shape[0]"
      ],
      "execution_count": 32,
      "outputs": [
        {
          "output_type": "execute_result",
          "data": {
            "text/plain": [
              "5"
            ]
          },
          "metadata": {},
          "execution_count": 32
        }
      ]
    },
    {
      "cell_type": "code",
      "metadata": {
        "colab": {
          "base_uri": "https://localhost:8080/",
          "height": 282
        },
        "id": "QpTD4ERY61ha",
        "outputId": "88144a7c-afbb-485a-8452-f0a05658629e"
      },
      "source": [
        "import matplotlib.pyplot as plt\n",
        "\n",
        "df['error'].plot()  \n",
        "#df['a'].plot()  \n",
        "#df['b'].plot()  \n",
        "\n",
        "x**3+2x**2+2\n",
        "x**3-x**2+13*x-2\n",
        "x**3+5.6*x**2-6.7\n",
        "x**3+2*x**2+2"
      ],
      "execution_count": null,
      "outputs": [
        {
          "output_type": "execute_result",
          "data": {
            "text/plain": [
              "<matplotlib.axes._subplots.AxesSubplot at 0x7f257b3d7310>"
            ]
          },
          "metadata": {},
          "execution_count": 59
        },
        {
          "output_type": "display_data",
          "data": {
            "image/png": "[encoded data removed]",
            "text/plain": [
              "<Figure size 432x288 with 1 Axes>"
            ]
          },
          "metadata": {
            "needs_background": "light"
          }
        }
      ]
    },
    {
      "cell_type": "code",
      "metadata": {
        "id": "PnKLf7a8y-JI"
      },
      "source": [
        "#Tarea\n",
        "\n",
        "x**3+2x**2+2\n",
        "x**3-x**2+13*x-2\n",
        "x**3+5.6*x**2-6.7\n",
        "x**3+2*x**2+2\n",
        "\n",
        "distintos iMax=100,1000,10000\n",
        "graficar error y hallar donde hay un cambio significativo en la tolerancia\n",
        "distintos TOL=1e-10,1e-6,1e-3"
      ],
      "execution_count": null,
      "outputs": []
    }
  ]
}