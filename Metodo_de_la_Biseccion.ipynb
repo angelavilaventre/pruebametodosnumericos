{
  "nbformat": 4,
  "nbformat_minor": 0,
  "metadata": {
    "colab": {
      "name": "Metodo de la Biseccion.ipynb",
      "provenance": [],
      "authorship_tag": "ABX9TyPqSfaa1yozZHfkRe68alek",
      "include_colab_link": true
    },
    "kernelspec": {
      "name": "python3",
      "display_name": "Python 3"
    },
    "language_info": {
      "name": "python"
    }
  },
  "cells": [
    {
      "cell_type": "markdown",
      "metadata": {
        "id": "view-in-github",
        "colab_type": "text"
      },
      "source": [
        "<a href=\"https://colab.research.google.com/github/angelavilaventre/pruebametodosnumericos/blob/main/Metodo_de_la_Biseccion.ipynb\" target=\"_parent\"><img src=\"https://colab.research.google.com/assets/colab-badge.svg\" alt=\"Open In Colab\"/></a>"
      ]
    },
    {
      "cell_type": "markdown",
      "metadata": {
        "id": "9gr1jbWQ-CVf"
      },
      "source": [
        "#Graficar con Numpy y Matplot"
      ]
    },
    {
      "cell_type": "code",
      "metadata": {
        "colab": {
          "base_uri": "https://localhost:8080/",
          "height": 282
        },
        "id": "rGVU04TEsX75",
        "outputId": "c118ca0c-8830-4714-d463-0e8e7374dc50"
      },
      "source": [
        "import matplotlib.pyplot as plt\n",
        "import numpy\n",
        "\n",
        "x= numpy.linspace(-10,10,1000)\n",
        "f=2*x**2-6*x\n",
        "\n",
        "plt.plot(x,f)"
      ],
      "execution_count": 9,
      "outputs": [
        {
          "output_type": "execute_result",
          "data": {
            "text/plain": [
              "[<matplotlib.lines.Line2D at 0x7f2ed37d3210>]"
            ]
          },
          "metadata": {},
          "execution_count": 9
        },
        {
          "output_type": "display_data",
          "data": {
            "image/png": "[encoded data removed]",
            "text/plain": [
              "<Figure size 432x288 with 1 Axes>"
            ]
          },
          "metadata": {
            "needs_background": "light"
          }
        }
      ]
    },
    {
      "cell_type": "markdown",
      "metadata": {
        "id": "pfRRjh-i-KGl"
      },
      "source": [
        "#Graficar con Sympy"
      ]
    },
    {
      "cell_type": "code",
      "metadata": {
        "colab": {
          "base_uri": "https://localhost:8080/",
          "height": 316
        },
        "id": "ddfw_W34tWSM",
        "outputId": "88296fa7-46e6-49bb-84af-6ecb0ed491a8"
      },
      "source": [
        "import sympy\n",
        "from sympy import *\n",
        "x = symbols('x')\n",
        "f = 2*x**2 - 6*x \n",
        "\n",
        "# plot\n",
        "from sympy.plotting import plot\n",
        "p1 = plot(f, show=True)\n",
        "\n",
        "#roots\n",
        "sympy.roots(f, multiple=True)\n",
        "\n",
        "#evaluar la f(x)\n",
        "f.subs(x,1)"
      ],
      "execution_count": 45,
      "outputs": [
        {
          "output_type": "display_data",
          "data": {
            "image/png": "[encoded data removed]",
            "text/plain": [
              "<Figure size 432x288 with 1 Axes>"
            ]
          },
          "metadata": {
            "needs_background": "light"
          }
        },
        {
          "output_type": "execute_result",
          "data": {
            "text/latex": "$\\displaystyle -4$",
            "text/plain": [
              "-4"
            ]
          },
          "metadata": {},
          "execution_count": 45
        }
      ]
    },
    {
      "cell_type": "markdown",
      "metadata": {
        "id": "I7j6trkz-Odq"
      },
      "source": [
        "#Algoritmo para el Método de la Bisección"
      ]
    },
    {
      "cell_type": "code",
      "metadata": {
        "colab": {
          "base_uri": "https://localhost:8080/"
        },
        "id": "7op0-bJpt8h9",
        "outputId": "fa4e455e-a18d-4e3d-8176-4e0df335b29c"
      },
      "source": [
        "# Funcion a estudiar\n",
        "\n",
        "def f(x):\n",
        "  return 2*x**2-6*x\n",
        "\n",
        "# Funcion para el calculo de la media\n",
        "def mean(a,b):\n",
        "  return (a+b)/2\n",
        "\n",
        "# Algoritmo\n",
        "def CalculoRaiz(a,b):\n",
        "  \n",
        "  st=True\n",
        "  c=0\n",
        "  i=-1\n",
        "\n",
        "  while(st):\n",
        "    \n",
        "    if f(a)*f(b)<0:\n",
        "      c=mean(a,b)\n",
        "    else: st=False\n",
        "\n",
        "    if f(c)==0:\n",
        "      st=False\n",
        "    else:\n",
        "      if f(a)*f(c)<0: b=c\n",
        "      else: a=c\n",
        "\n",
        "    i=i+1\n",
        "  print(f\"Se encontro una raiz en {c} despues de {i} iteraciones\")\n",
        "\n",
        "################################################################################\n",
        "\n",
        "# Intervalo [a,b]\n",
        "a=1\n",
        "b=10\n",
        "\n",
        "#Aplico el método\n",
        "\n",
        "CalculoRaiz(a,b)"
      ],
      "execution_count": 47,
      "outputs": [
        {
          "output_type": "stream",
          "name": "stdout",
          "text": [
            "Se encontro una raiz en 3.0 despues de 52 iteraciones\n"
          ]
        }
      ]
    }
  ]
}