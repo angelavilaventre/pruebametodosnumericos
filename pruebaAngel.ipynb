{
  "nbformat": 4,
  "nbformat_minor": 0,
  "metadata": {
    "colab": {
      "name": "pruebaAngel",
      "provenance": [],
      "collapsed_sections": [],
      "authorship_tag": "ABX9TyO6Is5JpezBznY/DLoo1LA4",
      "include_colab_link": true
    },
    "kernelspec": {
      "name": "python3",
      "display_name": "Python 3"
    },
    "language_info": {
      "name": "python"
    }
  },
  "cells": [
    {
      "cell_type": "markdown",
      "metadata": {
        "id": "view-in-github",
        "colab_type": "text"
      },
      "source": [
        "<a href=\"https://colab.research.google.com/github/angelavilaventre/pruebametodosnumericos/blob/main/pruebaAngel.ipynb\" target=\"_parent\"><img src=\"https://colab.research.google.com/assets/colab-badge.svg\" alt=\"Open In Colab\"/></a>"
      ]
    },
    {
      "cell_type": "markdown",
      "metadata": {
        "id": "KSM2zanylSKs"
      },
      "source": [
        "#Esto es una pagina"
      ]
    },
    {
      "cell_type": "code",
      "metadata": {
        "colab": {
          "base_uri": "https://localhost:8080/"
        },
        "id": "rznEUxN5mh-7",
        "outputId": "d75e9e51-9383-4b35-bc6d-03df3e8e5076"
      },
      "source": [
        "texto=\"Hello World\"\n",
        "print(texto)"
      ],
      "execution_count": 1,
      "outputs": [
        {
          "output_type": "stream",
          "text": [
            "Hello World\n"
          ],
          "name": "stdout"
        }
      ]
    },
    {
      "cell_type": "code",
      "metadata": {
        "colab": {
          "base_uri": "https://localhost:8080/"
        },
        "id": "tFhG1aqVpyqK",
        "outputId": "dcb16c83-d6cc-4321-80c9-1dcdee56b4ab"
      },
      "source": [
        "i=True\n",
        "\n",
        "while(i==True):\n",
        "  consola=input(\"Ingrese un numero: \")\n",
        "  if str.isdigit(consola):\n",
        "    print(\"El valor ingresado es \"+ consola)\n",
        "    i=False\n",
        "  else:\n",
        "    print(\"El valor ingresado no es un numero. Intentelo nuevamente\")"
      ],
      "execution_count": 15,
      "outputs": [
        {
          "output_type": "stream",
          "text": [
            "Ingrese un numero: 2\n",
            "El valor ingresado es 2\n"
          ],
          "name": "stdout"
        }
      ]
    }
  ]
}