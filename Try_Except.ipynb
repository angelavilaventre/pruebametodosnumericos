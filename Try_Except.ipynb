{
  "nbformat": 4,
  "nbformat_minor": 0,
  "metadata": {
    "colab": {
      "name": "Try-Except.ipynb",
      "provenance": [],
      "collapsed_sections": [],
      "authorship_tag": "ABX9TyOWEzl8ylsW6U7mXc24emDm",
      "include_colab_link": true
    },
    "kernelspec": {
      "name": "python3",
      "display_name": "Python 3"
    },
    "language_info": {
      "name": "python"
    }
  },
  "cells": [
    {
      "cell_type": "markdown",
      "metadata": {
        "id": "view-in-github",
        "colab_type": "text"
      },
      "source": [
        "<a href=\"https://colab.research.google.com/github/angelavilaventre/pruebametodosnumericos/blob/main/Try_Except.ipynb\" target=\"_parent\"><img src=\"https://colab.research.google.com/assets/colab-badge.svg\" alt=\"Open In Colab\"/></a>"
      ]
    },
    {
      "cell_type": "code",
      "metadata": {
        "id": "zRnRpeiZeXbn",
        "colab": {
          "base_uri": "https://localhost:8080/"
        },
        "outputId": "44f61292-ebc2-4b4a-9554-5bd9819fbd52"
      },
      "source": [
        "def sumar(num1,num2):\n",
        "  return num1+num2\n",
        "\n",
        "def restar(num1,num2):\n",
        "  return num1-num2\n",
        "\n",
        "def multiplicar(num1,num2):\n",
        "  return num1*num2\n",
        "\n",
        "def dividir(num1,num2):\n",
        "  return num1/num2\n",
        "\n",
        "num1=(int(input(\"Ingrese el primer numero: \")))\n",
        "num2=(int(input(\"Ingrese el segundo numero: \")))\n",
        "operacion=input(\"Ingrese la operacion a realizar (sumar, restar, multiplicar, dividir): \")\n",
        "\n",
        "if operacion==\"sumar\":\n",
        "  print(sumar(num1,num2))\n",
        "\n",
        "elif operacion==\"restar\":\n",
        "  print(restar(num1,num2))\n",
        "\n",
        "elif operacion==\"multiplicar\":\n",
        "  print(multiplicar(num1,num2))\n",
        "\n",
        "elif operacion==\"dividir\":\n",
        "  print(dividir(num1,num2))\n",
        "\n",
        "else:\n",
        "  print(\"Operacion no registrada\")\n",
        "\n",
        "print(\"Continua el flujo de ejecucion...\")"
      ],
      "execution_count": 31,
      "outputs": [
        {
          "output_type": "stream",
          "text": [
            "Ingrese el primer numero: 2\n",
            "Ingrese el segundo numero: 2\n",
            "Ingrese la operacion a realizar (sumar, restar, multiplicar, dividir): dividir\n",
            "1.0\n",
            "Continua el flujo de ejecucion...\n"
          ],
          "name": "stdout"
        }
      ]
    },
    {
      "cell_type": "code",
      "metadata": {
        "colab": {
          "base_uri": "https://localhost:8080/",
          "height": 265
        },
        "id": "9CMtSlS2bHtv",
        "outputId": "c379e8f4-283b-4e31-a1a6-0a43a776360c"
      },
      "source": [
        "def dividir(num1,num2):\n",
        "  try:\n",
        "   return num1/num2\n",
        "  except ZeroDivisionError:\n",
        "    return \"No se puede dividir por 0\"\n",
        "\n",
        "num1=(int(input(\"Ingrese el primer numero: \")))\n",
        "num2=(int(input(\"Ingrese el segundo numero: \")))\n",
        "\n",
        "print(dividir(num1,num2))\n",
        "\n",
        "print(\"Continua el flujo de ejecucion...\")"
      ],
      "execution_count": 33,
      "outputs": [
        {
          "output_type": "stream",
          "text": [
            "Ingrese el primer numero: 2\n",
            "Ingrese el segundo numero: cero\n"
          ],
          "name": "stdout"
        },
        {
          "output_type": "error",
          "ename": "ValueError",
          "evalue": "ignored",
          "traceback": [
            "\u001b[0;31m---------------------------------------------------------------------------\u001b[0m",
            "\u001b[0;31mValueError\u001b[0m                                Traceback (most recent call last)",
            "\u001b[0;32m<ipython-input-33-2991351ae03c>\u001b[0m in \u001b[0;36m<module>\u001b[0;34m()\u001b[0m\n\u001b[1;32m      6\u001b[0m \u001b[0;34m\u001b[0m\u001b[0m\n\u001b[1;32m      7\u001b[0m \u001b[0mnum1\u001b[0m\u001b[0;34m=\u001b[0m\u001b[0;34m(\u001b[0m\u001b[0mint\u001b[0m\u001b[0;34m(\u001b[0m\u001b[0minput\u001b[0m\u001b[0;34m(\u001b[0m\u001b[0;34m\"Ingrese el primer numero: \"\u001b[0m\u001b[0;34m)\u001b[0m\u001b[0;34m)\u001b[0m\u001b[0;34m)\u001b[0m\u001b[0;34m\u001b[0m\u001b[0;34m\u001b[0m\u001b[0m\n\u001b[0;32m----> 8\u001b[0;31m \u001b[0mnum2\u001b[0m\u001b[0;34m=\u001b[0m\u001b[0;34m(\u001b[0m\u001b[0mint\u001b[0m\u001b[0;34m(\u001b[0m\u001b[0minput\u001b[0m\u001b[0;34m(\u001b[0m\u001b[0;34m\"Ingrese el segundo numero: \"\u001b[0m\u001b[0;34m)\u001b[0m\u001b[0;34m)\u001b[0m\u001b[0;34m)\u001b[0m\u001b[0;34m\u001b[0m\u001b[0;34m\u001b[0m\u001b[0m\n\u001b[0m\u001b[1;32m      9\u001b[0m \u001b[0;34m\u001b[0m\u001b[0m\n\u001b[1;32m     10\u001b[0m \u001b[0mprint\u001b[0m\u001b[0;34m(\u001b[0m\u001b[0mdividir\u001b[0m\u001b[0;34m(\u001b[0m\u001b[0mnum1\u001b[0m\u001b[0;34m,\u001b[0m\u001b[0mnum2\u001b[0m\u001b[0;34m)\u001b[0m\u001b[0;34m)\u001b[0m\u001b[0;34m\u001b[0m\u001b[0;34m\u001b[0m\u001b[0m\n",
            "\u001b[0;31mValueError\u001b[0m: invalid literal for int() with base 10: 'cero'"
          ]
        }
      ]
    },
    {
      "cell_type": "code",
      "metadata": {
        "colab": {
          "base_uri": "https://localhost:8080/"
        },
        "id": "ivsRIQJYdfpR",
        "outputId": "fca4b6a1-ddee-482c-e319-52c0ddb82fbc"
      },
      "source": [
        "def dividir(num1,num2):\n",
        "  try:\n",
        "   return num1/num2\n",
        "  except ZeroDivisionError:\n",
        "    return \"No se puede dividir por 0\"\n",
        "\n",
        "try:\n",
        "  n1=(int(input(\"Ingrese el primer numero: \")))\n",
        "  n2=(int(input(\"Ingrese el segundo numero: \")))\n",
        "except ValueError:\n",
        "  print(\"Valor ingresado erroneo\")\n",
        "\n",
        "print(dividir(n1,n2))\n",
        "\n",
        "print(\"Continua el flujo de ejecucion...\")"
      ],
      "execution_count": 35,
      "outputs": [
        {
          "output_type": "stream",
          "text": [
            "Ingrese el primer numero: 2\n",
            "Ingrese el segundo numero: asyfba\n",
            "Valor ingresado erroneo\n",
            "No se puede dividir por 0\n",
            "Continua el flujo de ejecucion...\n"
          ],
          "name": "stdout"
        }
      ]
    },
    {
      "cell_type": "code",
      "metadata": {
        "colab": {
          "base_uri": "https://localhost:8080/"
        },
        "id": "U1tck2H9f8mN",
        "outputId": "a36be65b-d72c-460a-ec15-cb4d3a88af3e"
      },
      "source": [
        "def dividir():\n",
        "  try:\n",
        "    num1=(float(input(\"Ingrese el primer numero: \")))\n",
        "    num2=(float(input(\"Ingrese el segundo numero: \")))\n",
        "    print(\"La division es: \" + str(num1/num2))\n",
        "  except ValueError:\n",
        "    print(\"Valor ingresado erroneo\")\n",
        "  except ZeroDivisionError:\n",
        "    print(\"No se puede dividir por 0\")\n",
        "  \n",
        "  print(\"Operacion finalizada\")\n",
        "\n",
        "dividir()\n",
        "\n",
        "print(\"Continua el flujo de ejecucion...\")"
      ],
      "execution_count": 37,
      "outputs": [
        {
          "output_type": "stream",
          "text": [
            "Ingrese el primer numero: 2\n",
            "Ingrese el segundo numero: ahbea\n",
            "Valor ingresado erroneo\n",
            "Operacion finalizada\n",
            "Continua el flujo de ejecucion...\n"
          ],
          "name": "stdout"
        }
      ]
    },
    {
      "cell_type": "code",
      "metadata": {
        "colab": {
          "base_uri": "https://localhost:8080/"
        },
        "id": "HpeM4tSA1d05",
        "outputId": "7a84ff7b-33eb-476e-da28-8ef0a44155f5"
      },
      "source": [
        "# Bucle de ingresar un valor numerico\n",
        "\n",
        "i=True\n",
        "\n",
        "while(i==True):\n",
        "  try:\n",
        "    valor=(int(input(\"Ingrese un numero: \")))\n",
        "    i=False\n",
        "    print(valor)\n",
        "  except ValueError:\n",
        "    print(\"No ingreso un numero. Intentelo de nuevo.\")"
      ],
      "execution_count": 41,
      "outputs": [
        {
          "output_type": "stream",
          "text": [
            "Ingrese un numero: a\n",
            "No ingreso un numero. Intentelo de nuevo.\n",
            "Ingrese un numero: 2\n",
            "2\n"
          ],
          "name": "stdout"
        }
      ]
    }
  ]
}